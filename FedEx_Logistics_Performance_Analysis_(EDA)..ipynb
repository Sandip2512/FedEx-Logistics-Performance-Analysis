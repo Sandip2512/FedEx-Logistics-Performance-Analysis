{
  "nbformat": 4,
  "nbformat_minor": 0,
  "metadata": {
    "colab": {
      "private_outputs": true,
      "provenance": [],
      "collapsed_sections": [
        "vncDsAP0Gaoa",
        "FJNUwmbgGyua",
        "w6K7xa23Elo4",
        "yQaldy8SH6Dl",
        "PH-0ReGfmX4f",
        "mDgbUHAGgjLW",
        "O_i_v8NEhb9l",
        "MSa1f5Uengrz",
        "0M0o55Qp_69T",
        "KWbJfpEaA2Mm",
        "BLaTYWKQBpv2",
        "gIfDvo9L0UH2"
      ]
    },
    "kernelspec": {
      "name": "python3",
      "display_name": "Python 3"
    },
    "language_info": {
      "name": "python"
    }
  },
  "cells": [
    {
      "cell_type": "markdown",
      "source": [
        "# **Project Name**    -  FedEx Logistics Performance Analysis\n",
        "\n",
        "\n"
      ],
      "metadata": {
        "id": "vncDsAP0Gaoa"
      }
    },
    {
      "cell_type": "markdown",
      "source": [
        "##### **Project Type**    - EDA/Regression/Classification/Unsupervised\n",
        "##### **Contribution**    - Individual\n"
      ],
      "metadata": {
        "id": "beRrZCGUAJYm"
      }
    },
    {
      "cell_type": "markdown",
      "source": [
        "# **Project Summary -**\n",
        "### Optimizing FedEx Logistics Through Data Analysis\n",
        "\n",
        "\n",
        "In today’s fast-paced, globally connected market, FedEx Logistics plays a pivotal role in managing supply chains across various industries and regions. With the rapid growth of eCommerce and global distribution networks, maintaining efficient logistics operations is critical to staying competitive. This project focuses on analyzing data from FedEx Logistics to uncover insights that can optimize shipment processes, minimize costs, and enhance customer satisfaction. The dataset contains information on shipment modes, countries, vendors, line item values, weights, freight costs, delivery delays, and more, allowing for a comprehensive analysis of the company’s logistics performanctisfaction.\n",
        "\n",
        "#### Univariate Analysis\n",
        "\n",
        "##### 1. **Count of Shipments by Country**\n",
        "This analysis revealed the distribution of shipments across various countries, helping identify key markets. Countries with the highest shipment volumes represent regions where FedEx may need to allocate more resources to maintain operational efficiency.\n",
        "\n",
        "##### 2. **Distribution of Shipment Modes**\n",
        "Analyzing shipment modes (e.g., Air, Sea, or Ground) showed that air shipments, though faster, were less frequently used due to their higher costs, while sea shipments were more common but associated with longer delivery times. This insight is crucial for balancing cost and speed.\n",
        "\n",
        "##### 3. **Average Freight Cost**\n",
        "The average freight cost per shipment provided insights into the overall cost structure, highlighting the need to optimize the more expensive modes of transport, such as air.\n",
        "\n",
        "##### 4. **Line Item Quantity Distribution**\n",
        "Visualizing the distribution of line item quantities showed that most shipments contained smaller quantities, with larger shipments being less frequent. This can inform future inventory management strategies and order consolidation efforts.\n",
        "\n",
        "##### 5. **Weight Distribution**\n",
        "The weight distribution analysis showed a wide range of shipment weights, indicating the varying scale of deliveries. Heavier shipments tend to incur higher freight costs, emphasizing the need to optimize the shipment of bulk goods.\n",
        "\n",
        "##### 6. **Vendors with Highest Orders**\n",
        "This analysis identified vendors that contributed the most shipments. Understanding which vendors generate the highest order volumes allows FedEx to prioritize relationships and streamline vendor-specific operations.\n",
        "\n",
        "#### Bi-variate Analysis\n",
        "\n",
        "##### 1. **Average Weight by Shipment Mode**\n",
        "Comparing the average weight across different shipment modes provided valuable insights into how shipment methods impact weight handling. Sea shipments, for example, typically handled much heavier loads compared to air shipments, which aligns with cost expectations.\n",
        "\n",
        "##### 2. **Delivery Delays by Shipment Mode**\n",
        "Analyzing delivery delays by shipment mode highlighted that air shipments were the least likely to experience delays, while sea shipments often had longer lead times. This data can guide decisions about which shipment mode to use for time-sensitive deliveries.\n",
        "\n",
        "##### 3. **Total Shipments Over Time**\n",
        "By tracking the number of shipments over time, this analysis revealed seasonal trends and fluctuations in demand. Identifying peak shipping periods enables FedEx to allocate resources effectively during high-demand seasons.\n",
        "\n",
        "##### 4. **Line Item Value Across Different Shipment Modes**\n",
        "This comparison showed how the value of items shipped varies by the mode of transport. High-value items were often shipped via air due to their time-sensitive nature, while lower-value goods were more commonly transported via sea or ground.\n",
        "\n",
        "#### Multi-variate Analysis\n",
        "\n",
        "##### 1. **Freight Cost by Country, Shipment Mode, and Vendor**\n",
        "A multivariate analysis of freight costs revealed significant variations across different countries, shipment modes, and vendors. For example, certain vendors in high-cost regions showed consistently higher freight costs, offering opportunities to renegotiate vendor agreements or explore alternative shipping methods.\n",
        "\n",
        "##### 2. **Line Item Value vs. Freight Cost by Vendor and Shipment Mode**\n",
        "This analysis showed that for some vendors, freight costs were disproportionately high relative to the value of the items being shipped. This could indicate inefficiencies or opportunities for cost reduction, especially in optimizing shipping modes for specific vendors.\n",
        "\n",
        "##### 3. **Correlation Heatmap**\n",
        "A correlation heatmap of numerical variables revealed strong relationships between shipment weight, freight cost, and line item value. This information helps identify which variables have the greatest influence on freight costs, aiding in cost optimization efforts.\n",
        "\n",
        "##### 4. **Pair Plot**\n",
        "A pair plot visualizing relationships between variables like line item value, freight cost, and shipment weight showed how these variables interact. This analysis highlighted clusters of shipments that shared similar e costs, and improve customer satisfaction across its operations."
      ],
      "metadata": {
        "id": "FJNUwmbgGyua"
      }
    },
    {
      "cell_type": "markdown",
      "source": [
        "Write the summary here within 500-600 words."
      ],
      "metadata": {
        "id": "F6v_1wHtG2nS"
      }
    },
    {
      "cell_type": "markdown",
      "source": [
        "# **GitHub Link -**"
      ],
      "metadata": {
        "id": "w6K7xa23Elo4"
      }
    },
    {
      "cell_type": "markdown",
      "source": [
        "Provide your GitHub Link here."
      ],
      "metadata": {
        "id": "h1o69JH3Eqqn"
      }
    },
    {
      "cell_type": "markdown",
      "source": [
        "# **Problem Statement**\n"
      ],
      "metadata": {
        "id": "yQaldy8SH6Dl"
      }
    },
    {
      "cell_type": "markdown",
      "source": [
        "**The dataset aims to optimize FedEx Logistics' global supply chain by providing detailed insights into purchase orders, shipment methods, vendor agreements, and delivery schedules. With the rise of eCommerce and increasing global distribution demands, analyzing this data will help identify bottlenecks, minimize freight costs, and enhance delivery efficiency. The goal is to streamline operations, improve customer satisfaction, and maintain a competitive edge by ensuring timely deliveries and cost-effective logistics management.**"
      ],
      "metadata": {
        "id": "DpeJGUA3kjGy"
      }
    },
    {
      "cell_type": "markdown",
      "source": [
        "#### **Define Your Business Objective?**"
      ],
      "metadata": {
        "id": "PH-0ReGfmX4f"
      }
    },
    {
      "cell_type": "markdown",
      "source": [
        "The business objective is to optimize FedEx Logistics' global supply chain operations by leveraging data insights to improve delivery efficiency, reduce shipping costs, and enhance customer satisfaction. The goal is to identify bottlenecks, streamline processes, and ensure timely and cost-effective deliveries across various regions and industries. This will support FedEx in maintaining a competitive edge in the growing eCommerce and global distribution landscape while delivering value to both the company and its customers."
      ],
      "metadata": {
        "id": "PhDvGCAqmjP1"
      }
    },
    {
      "cell_type": "markdown",
      "source": [
        "# **General Guidelines** : -  "
      ],
      "metadata": {
        "id": "mDgbUHAGgjLW"
      }
    },
    {
      "cell_type": "markdown",
      "source": [
        "1.   Well-structured, formatted, and commented code is required.\n",
        "2.   Exception Handling, Production Grade Code & Deployment Ready Code will be a plus. Those students will be awarded some additional credits.\n",
        "     \n",
        "     The additional credits will have advantages over other students during Star Student selection.\n",
        "       \n",
        "             [ Note: - Deployment Ready Code is defined as, the whole .ipynb notebook should be executable in one go\n",
        "                       without a single error logged. ]\n",
        "\n",
        "3.   Each and every logic should have proper comments.\n",
        "4. You may add as many number of charts you want. Make Sure for each and every chart the following format should be answered.\n",
        "        \n",
        "\n",
        "```\n",
        "# Chart visualization code\n",
        "```\n",
        "            \n",
        "\n",
        "*   Why did you pick the specific chart?\n",
        "*   What is/are the insight(s) found from the chart?\n",
        "* Will the gained insights help creating a positive business impact?\n",
        "Are there any insights that lead to negative growth? Justify with specific reason.\n",
        "\n",
        "5. You have to create at least 20 logical & meaningful charts having important insights.\n",
        "\n",
        "\n",
        "[ Hints : - Do the Vizualization in  a structured way while following \"UBM\" Rule.\n",
        "\n",
        "U - Univariate Analysis,\n",
        "\n",
        "B - Bivariate Analysis (Numerical - Categorical, Numerical - Numerical, Categorical - Categorical)\n",
        "\n",
        "M - Multivariate Analysis\n",
        " ]\n",
        "\n",
        "\n",
        "\n"
      ],
      "metadata": {
        "id": "ZrxVaUj-hHfC"
      }
    },
    {
      "cell_type": "markdown",
      "source": [
        "# ***Let's Begin !***"
      ],
      "metadata": {
        "id": "O_i_v8NEhb9l"
      }
    },
    {
      "cell_type": "markdown",
      "source": [
        "## ***1. Know Your Data***"
      ],
      "metadata": {
        "id": "HhfV-JJviCcP"
      }
    },
    {
      "cell_type": "markdown",
      "source": [
        "### Import Libraries"
      ],
      "metadata": {
        "id": "Y3lxredqlCYt"
      }
    },
    {
      "cell_type": "code",
      "source": [
        "# Import Libraries\n",
        "import numpy as np\n",
        "import pandas as pd\n",
        "import matplotlib.pyplot as plt\n",
        "import matplotlib.patches as patches\n",
        "import matplotlib.ticker as mtick\n",
        "import matplotlib.lines as lines\n",
        "import matplotlib.image as mpimg\n",
        "import matplotlib.colors as mcolors\n",
        "import seaborn as sns\n",
        "import plotly.express as px\n",
        "\n",
        "import warnings\n",
        "warnings.filterwarnings('ignore')"
      ],
      "metadata": {
        "id": "M8Vqi-pPk-HR"
      },
      "execution_count": null,
      "outputs": []
    },
    {
      "cell_type": "markdown",
      "source": [
        "### Dataset Loading"
      ],
      "metadata": {
        "id": "3RnN4peoiCZX"
      }
    },
    {
      "cell_type": "code",
      "source": [
        "# Load Dataset\n",
        "fed_df = pd.read_csv(\"/content/SCMS_Delivery_History_Dataset.csv\")"
      ],
      "metadata": {
        "id": "4CkvbW_SlZ_R"
      },
      "execution_count": null,
      "outputs": []
    },
    {
      "cell_type": "markdown",
      "source": [
        "### Dataset First View"
      ],
      "metadata": {
        "id": "x71ZqKXriCWQ"
      }
    },
    {
      "cell_type": "code",
      "source": [
        "# Dataset First Look\n",
        "fed_df.head()"
      ],
      "metadata": {
        "id": "LWNFOSvLl09H"
      },
      "execution_count": null,
      "outputs": []
    },
    {
      "cell_type": "markdown",
      "source": [
        "### Dataset Rows & Columns count"
      ],
      "metadata": {
        "id": "7hBIi_osiCS2"
      }
    },
    {
      "cell_type": "code",
      "source": [
        "# Dataset Rows & Columns count\n",
        "print(f\"Number of Rows:\",{fed_df.shape[0]})\n",
        "print(f\"Number of Columns:\",{fed_df.shape[1]})"
      ],
      "metadata": {
        "id": "Kllu7SJgmLij"
      },
      "execution_count": null,
      "outputs": []
    },
    {
      "cell_type": "markdown",
      "source": [
        "### Dataset Information"
      ],
      "metadata": {
        "id": "JlHwYmJAmNHm"
      }
    },
    {
      "cell_type": "code",
      "source": [
        "# Dataset Info\n",
        "fed_df.info()"
      ],
      "metadata": {
        "id": "e9hRXRi6meOf"
      },
      "execution_count": null,
      "outputs": []
    },
    {
      "cell_type": "markdown",
      "source": [
        "#### Duplicate Values"
      ],
      "metadata": {
        "id": "35m5QtbWiB9F"
      }
    },
    {
      "cell_type": "code",
      "source": [
        "# Dataset Duplicate Value Count\n",
        "fed_df.duplicated().sum()"
      ],
      "metadata": {
        "id": "1sLdpKYkmox0"
      },
      "execution_count": null,
      "outputs": []
    },
    {
      "cell_type": "markdown",
      "source": [
        "#### Missing Values/Null Values"
      ],
      "metadata": {
        "id": "PoPl-ycgm1ru"
      }
    },
    {
      "cell_type": "code",
      "source": [
        "# Missing Values/Null Values Count\n",
        "fed_df.isnull().sum()"
      ],
      "metadata": {
        "id": "GgHWkxvamxVg"
      },
      "execution_count": null,
      "outputs": []
    },
    {
      "cell_type": "code",
      "source": [
        "# Visualizing the missing\n",
        "def apply_chart_styling(ax, fig, title, subtitle, insight_text, logo_path='logo.png'):\n",
        "    # Set the figure and axis background color\n",
        "    fig.patch.set_facecolor('#D3D3D3')\n",
        "    ax.set_facecolor('#D3D3D3')\n",
        "\n",
        "    # Add title and subtitle to the chart\n",
        "    fig.text(0.09, 1.05, title, fontsize=18, fontweight='bold', fontfamily='serif')\n",
        "    fig.text(0.09, 0.99, subtitle, fontsize=12, fontweight='bold', fontfamily='serif')\n",
        "\n",
        "    # Add an 'Insight' section on the right side of the chart\n",
        "    fig.text(1.1, 1.01, 'Insight', fontsize=12, fontweight='bold', fontfamily='serif')\n",
        "    fig.text(1.1, 0.50, insight_text, fontsize=12, fontweight='bold', fontfamily='serif')\n",
        "\n",
        "    # Load and display the logo in the top-right corner\n",
        "    logo = mpimg.imread(logo_path)  # Read the logo image file\n",
        "    logo_ax = fig.add_axes([1.5, 0.85, 0.1, 0.1])  # Create a new axis for the logo\n",
        "    logo_ax.imshow(logo)  # Display the logo image in the created axis\n",
        "    logo_ax.axis('off')  # Hide axis for a clean look\n",
        "\n",
        "    # Add horizontal gridlines to the y-axis for readability\n",
        "    ax.grid(axis='y', linestyle='-', alpha=0.4)\n",
        "    ax.set_axisbelow(True)  # Ensure gridlines appear behind chart elements\n",
        "\n",
        "    # Hide the top, right, and left spines (axes lines) for a cleaner look\n",
        "    for spine in ['top', 'right', 'left']:\n",
        "        ax.spines[spine].set_visible(False)\n",
        "\n",
        "    # Adjust the tick parameters for better readability\n",
        "    ax.tick_params(axis='both', which='major', labelsize=12)\n",
        "\n",
        "    # Add a vertical line separator between the chart and the 'Insight' section\n",
        "    l1 = lines.Line2D([1, 1], [0, 1], transform=fig.transFigure, figure=fig, color='black', lw=0.2)\n",
        "    fig.lines.extend([l1])  # Extend the line list of the figure to include this new line\n"
      ],
      "metadata": {
        "id": "3q5wnI3om9sJ"
      },
      "execution_count": null,
      "outputs": []
    },
    {
      "cell_type": "code",
      "source": [
        "# Visualizing the missing values\n",
        "# Define a color palette for the chart bars\n",
        "palette = ['#4d148c', '#ff6600', '#000000', '#ffffff']\n",
        "\n",
        "# Calculate the number of missing values for each column in the dataset and sort in descending order\n",
        "missing_data = fed_df.isnull().sum().sort_values(ascending=False)\n",
        "\n",
        "# Set up the figure and axis with specified size for readability\n",
        "fig, ax = plt.subplots(1, 1, figsize=(18, 10))\n",
        "\n",
        "# Plot the missing data counts as a bar chart\n",
        "bars = ax.bar(missing_data.index, missing_data.values, color=palette)\n",
        "\n",
        "# Rotate x-axis labels for better readability and align them to the right\n",
        "ax.set_xticklabels(ax.get_xticklabels(), rotation=90, ha='right')\n",
        "\n",
        "# Apply custom styling, adding titles and insight placeholders\n",
        "apply_chart_styling(\n",
        "    ax=ax,\n",
        "    fig=fig,\n",
        "    title='Missing Data',\n",
        "    subtitle='Analyzing missing data values',\n",
        "    insight_text=''''''\n",
        ")\n",
        "\n",
        "# Adjust layout for proper spacing and element display\n",
        "plt.tight_layout()\n",
        "\n",
        "# Display the final plot\n",
        "plt.show()\n"
      ],
      "metadata": {
        "id": "wZuPrm1ktrFp"
      },
      "execution_count": null,
      "outputs": []
    },
    {
      "cell_type": "markdown",
      "source": [
        "### What did you know about your dataset?"
      ],
      "metadata": {
        "id": "H0kj-8xxnORC"
      }
    },
    {
      "cell_type": "markdown",
      "source": [
        "Fedex dataset consists of 10,324 entries and 33 columns, including various fields related to procurement and shipment details, such as IDs, project codes, purchase orders, and shipping numbers. It also captures logistical details like shipment modes, vendor terms, and delivery dates. Key numerical fields include line item quantities, prices, and freight costs. Some columns contain missing data, such as \"Shipment Mode\" and \"Dosage,\" while most others are complete. Additionally, certain fields like \"Weight (Kilograms)\" and \"Freight Cost (USD)\" are stored as objects but may need conversion for numerical analysis. Overall, it’s a detailed dataset suited for procurement and supply chain analysis."
      ],
      "metadata": {
        "id": "gfoNAAC-nUe_"
      }
    },
    {
      "cell_type": "markdown",
      "source": [
        "## ***2. Understanding Your Variables***"
      ],
      "metadata": {
        "id": "nA9Y7ga8ng1Z"
      }
    },
    {
      "cell_type": "code",
      "source": [
        "# Dataset Columns\n",
        "fed_df.columns"
      ],
      "metadata": {
        "id": "j7xfkqrt5Ag5"
      },
      "execution_count": null,
      "outputs": []
    },
    {
      "cell_type": "code",
      "source": [
        "# Dataset Describe\n",
        "fed_df.describe()"
      ],
      "metadata": {
        "id": "DnOaZdaE5Q5t"
      },
      "execution_count": null,
      "outputs": []
    },
    {
      "cell_type": "markdown",
      "source": [
        "### Variables Description"
      ],
      "metadata": {
        "id": "PBTbrJXOngz2"
      }
    },
    {
      "cell_type": "markdown",
      "source": [
        "1. **ID**: Unique identifier for each order record.\n",
        "\n",
        "2. **Unit of Measure (Per Pack)**: The standard unit for items in a pack (e.g., pieces, kg).\n",
        "\n",
        "3. **Line Item Quantity**: Total number of items in a specific order line.\n",
        "\n",
        "4. **Line Item Value**: Total cost of all items in that line.\n",
        "\n",
        "5. **Pack Price**: Price for a single pack of items.\n",
        "\n",
        "6. **Unit Price**: Price for one individual item.\n",
        "\n",
        "7. **Line Item Insurance (USD)**: Insurance cost for the line item during shipping."
      ],
      "metadata": {
        "id": "aJV4KIxSnxay"
      }
    },
    {
      "cell_type": "markdown",
      "source": [
        "### Check Unique Values for each variable."
      ],
      "metadata": {
        "id": "u3PMJOP6ngxN"
      }
    },
    {
      "cell_type": "code",
      "source": [
        "# Check Unique Values for each variable.\n",
        "for column in fed_df.columns:\n",
        "    print(f\"{column} : {len(fed_df[column].unique())}\")"
      ],
      "metadata": {
        "id": "zms12Yq5n-jE"
      },
      "execution_count": null,
      "outputs": []
    },
    {
      "cell_type": "markdown",
      "source": [
        "## 3. ***Data Wrangling***"
      ],
      "metadata": {
        "id": "dauF4eBmngu3"
      }
    },
    {
      "cell_type": "markdown",
      "source": [
        "### Data Wrangling Code"
      ],
      "metadata": {
        "id": "bKJF3rekwFvQ"
      }
    },
    {
      "cell_type": "code",
      "source": [
        "# Write your code to make your dataset analysis ready.\n",
        "fed_ex = fed_df[[\n",
        "    'Country',\n",
        "    'Managed By',\n",
        "    'Fulfill Via',\n",
        "    'Shipment Mode',\n",
        "    'PQ First Sent to Client Date',\n",
        "    'PO Sent to Vendor Date',\n",
        "    'Scheduled Delivery Date',\n",
        "    'Delivered to Client Date',\n",
        "    'Delivery Recorded Date',\n",
        "    'Line Item Quantity',\n",
        "    'Line Item Value',\n",
        "    'Weight (Kilograms)',\n",
        "    'Freight Cost (USD)',\n",
        "    'Vendor',\n",
        "    'Line Item Insurance (USD)'\n",
        "]]\n",
        "\n",
        "shipment_mode_mode = fed_ex['Shipment Mode'].mode()[0]  # Get the most common value\n",
        "fed_ex['Shipment Mode'].fillna(shipment_mode_mode, inplace=True)  # Fill with the mode\n",
        "\n",
        "\n",
        "fed_ex['Line Item Insurance (USD'] = fed_ex['Line Item Insurance (USD)'].fillna(0)  # Fill with 0\n",
        "\n",
        "\n",
        "fed_ex.drop_duplicates(inplace=True)\n",
        "\n",
        "\n",
        "date_columns = ['PQ First Sent to Client Date', 'PO Sent to Vendor Date',\n",
        "                'Scheduled Delivery Date', 'Delivered to Client Date',\n",
        "                'Delivery Recorded Date']\n",
        "for col in date_columns:\n",
        "    fed_ex[col] = pd.to_datetime(fed_ex[col], errors='coerce')  # Convert to datetime, coerce errors\n",
        "\n",
        "\n",
        "numeric_columns = ['Line Item Quantity', 'Line Item Value', 'Weight (Kilograms)',\n",
        "                   'Freight Cost (USD)', 'Line Item Insurance (USD)']\n",
        "for col in numeric_columns:\n",
        "    fed_ex[col] = pd.to_numeric(fed_ex[col], errors='coerce')  # Ensure numeric type\n",
        "\n",
        "\n",
        "fed_ex['Country'] = fed_ex['Country'].str.strip().str.lower()  # Example normalization\n",
        "\n",
        "# Check the cleaned data\n",
        "print(fed_ex.info())"
      ],
      "metadata": {
        "id": "wk-9a2fpoLcV"
      },
      "execution_count": null,
      "outputs": []
    },
    {
      "cell_type": "markdown",
      "source": [
        "### What all manipulations have you done and insights you found?"
      ],
      "metadata": {
        "id": "MSa1f5Uengrz"
      }
    },
    {
      "cell_type": "markdown",
      "source": [
        "Answer Here."
      ],
      "metadata": {
        "id": "LbyXE7I1olp8"
      }
    },
    {
      "cell_type": "markdown",
      "source": [
        "## ***4. Data Vizualization, Storytelling & Experimenting with charts : Understand the relationships between variables***"
      ],
      "metadata": {
        "id": "GF8Ens_Soomf"
      }
    },
    {
      "cell_type": "markdown",
      "source": [
        "# Univariate Analysis"
      ],
      "metadata": {
        "id": "0M0o55Qp_69T"
      }
    },
    {
      "cell_type": "markdown",
      "source": [
        "#### Chart - 1 - Count of Shipments by Country"
      ],
      "metadata": {
        "id": "0wOQAZs5pc--"
      }
    },
    {
      "cell_type": "code",
      "source": [
        "# Chart - 1 visualization code\n",
        "# Set up the plot with specified dimensions for improved readability and visualization\n",
        "fig, ax = plt.subplots(1, 1, figsize=(18, 10))\n",
        "\n",
        "# Create a count plot to visualize the number of shipments per country\n",
        "# Only the top 10 countries with the highest shipment counts are displayed\n",
        "sns.countplot(\n",
        "    x='Country',\n",
        "    order=fed_ex['Country'].value_counts().nlargest(10).index,\n",
        "    data=fed_ex,\n",
        "    palette=palette\n",
        ")\n",
        "\n",
        "# Apply custom styling to the chart with title, subtitle, and insights\n",
        "apply_chart_styling(\n",
        "    ax=ax,\n",
        "    fig=fig,\n",
        "    title='Count of Shipment By Country',\n",
        "    subtitle='Shipment Across the Country',\n",
        "    insight_text='''Based on the shipment count, it's evident that\n",
        "    South African countries lead with the highest volume of consignments being shipped.\n",
        "    This suggests a strong demand or active trade routes within that region,\n",
        "    potentially driven by industries such as mining, agriculture, and manufacturing.\n",
        "    Following closely behind are Nigeria and Cote d'Ivoire, while Zimbabwe and Tanzania\n",
        "    also see significant shipment activity. Vietnam's position may be due to its manufacturing\n",
        "    role in Southeast Asia, while Zimbabwe's shipments might relate to exports in mining,\n",
        "    agriculture, or other key commodities. This trend indicates a diverse global trade\n",
        "    landscape with strong regional markets.'''\n",
        ")\n",
        "\n",
        "# Adjust layout to ensure all elements are properly spaced and visible\n",
        "plt.tight_layout()\n",
        "\n",
        "# Display the plot\n",
        "plt.show()\n"
      ],
      "metadata": {
        "id": "7v_ESjsspbW7"
      },
      "execution_count": null,
      "outputs": []
    },
    {
      "cell_type": "markdown",
      "source": [
        "##### 1. Why did you pick the specific chart?"
      ],
      "metadata": {
        "id": "K5QZ13OEpz2H"
      }
    },
    {
      "cell_type": "markdown",
      "source": [
        "The count plot clearly shows shipment volumes by country for easy comparison."
      ],
      "metadata": {
        "id": "XESiWehPqBRc"
      }
    },
    {
      "cell_type": "markdown",
      "source": [
        "##### 2. What is/are the insight(s) found from the chart?"
      ],
      "metadata": {
        "id": "lQ7QKXXCp7Bj"
      }
    },
    {
      "cell_type": "markdown",
      "source": [
        "South African countries lead in shipments, indicating strong trade, with Nigeria and Côte d'Ivoire also showing significant activity."
      ],
      "metadata": {
        "id": "C_j1G7yiqdRP"
      }
    },
    {
      "cell_type": "markdown",
      "source": [
        "##### 3. Will the gained insights help creating a positive business impact?\n",
        "Are there any insights that lead to negative growth? Justify with specific reason."
      ],
      "metadata": {
        "id": "448CDAPjqfQr"
      }
    },
    {
      "cell_type": "markdown",
      "source": [
        "#### Business Impact:\n",
        "\n",
        "**Positive Impact**: Focus on high-volume countries can improve logistics and boost revenue.\n",
        "\n",
        "**Negative Insight**: Relying too much on specific countries can risk supply chain disruptions if issues arise there."
      ],
      "metadata": {
        "id": "3cspy4FjqxJW"
      }
    },
    {
      "cell_type": "markdown",
      "source": [
        "#### Chart - 2 - Distribution of Shipment Modes"
      ],
      "metadata": {
        "id": "KSlN3yHqYklG"
      }
    },
    {
      "cell_type": "code",
      "source": [
        "# Chart - 2 visualization code\n",
        "shipment_mode_counts = fed_ex['Shipment Mode'].value_counts()\n",
        "\n",
        "# Create the pie chart\n",
        "fig, ax = plt.subplots(figsize=(18, 10))\n",
        "\n",
        "explode = [0.1 if i == 1 else 0 for i in range(len(shipment_mode_counts))]\n",
        "\n",
        "# Plot the pie chart\n",
        "ax.pie(shipment_mode_counts,\n",
        "       labels=shipment_mode_counts.index,\n",
        "       colors=palette,\n",
        "       explode=explode,\n",
        "       autopct='%.0f%%',\n",
        "       startangle=90)\n",
        "\n",
        "# Apply chart styling\n",
        "apply_chart_styling(ax=ax, fig=fig, title='Shipment Mode Distribution', subtitle='Analyzing the distribution of shipment modes', insight_text='''It is clear that more than 63% of consignments are delivered by air, indicating a strong preference\n",
        "for this mode of transportation, likely due to its speed and efficiency.\n",
        "Following air transport, trucking accounts for 27% of the deliveries,\n",
        "suggesting that it plays a significant role in domestic distribution or\n",
        "shorter regional routes. Ocean freight, at 4%, is the least utilized method, which may\n",
        "reflect longer delivery times and logistical challenges associated with shipping by sea.\n",
        "Additionally, air charter services make up 5% of the total,\n",
        "which may be used for specialized shipments requiring rapid delivery.\n",
        "This distribution highlights the varying needs and priorities in logistics,\n",
        "with air transport being the dominant choice for time-sensitive consignments.''')\n",
        "\n",
        "# Display the chart\n",
        "plt.tight_layout()\n",
        "plt.show()"
      ],
      "metadata": {
        "id": "R4YgtaqtYklH"
      },
      "execution_count": null,
      "outputs": []
    },
    {
      "cell_type": "markdown",
      "source": [
        "##### 1. Why did you pick the specific chart?"
      ],
      "metadata": {
        "id": "t6dVpIINYklI"
      }
    },
    {
      "cell_type": "markdown",
      "source": [
        "The pie chart shows the distribution of shipment modes clearly, making it easy to see which mode is most used."
      ],
      "metadata": {
        "id": "5aaW0BYyYklI"
      }
    },
    {
      "cell_type": "markdown",
      "source": [
        "##### 2. What is/are the insight(s) found from the chart?"
      ],
      "metadata": {
        "id": "ijmpgYnKYklI"
      }
    },
    {
      "cell_type": "markdown",
      "source": [
        "Over 63% of shipments are by air, 27% by truck, 5% by air charter, and only 4% by ocean. This indicates a strong preference for fast delivery."
      ],
      "metadata": {
        "id": "PSx9atu2YklI"
      }
    },
    {
      "cell_type": "markdown",
      "source": [
        "##### 3. Will the gained insights help creating a positive business impact?\n",
        "Are there any insights that lead to negative growth? Justify with specific reason."
      ],
      "metadata": {
        "id": "-JiQyfWJYklI"
      }
    },
    {
      "cell_type": "markdown",
      "source": [
        "#### Business Impact:\n",
        "\n",
        "**Positive Impact**: The insights can help improve logistics strategies and negotiate better rates for air shipments.\n",
        "\n",
        "**Negative Insight**: Relying too much on air transport may lead to higher costs and missed opportunities for cheaper ocean freight options."
      ],
      "metadata": {
        "id": "BcBbebzrYklV"
      }
    },
    {
      "cell_type": "markdown",
      "source": [
        "#### Chart - 3 - Average Freight Cost"
      ],
      "metadata": {
        "id": "EM7whBJCYoAo"
      }
    },
    {
      "cell_type": "code",
      "source": [
        "# Chart - 3 visualization code\n",
        "fig, ax = plt.subplots(1, 1, figsize=(18, 10))\n",
        "\n",
        "# Plotting the histogram of the Freight Cost (USD)\n",
        "sns.histplot(x='Freight Cost (USD)', data=fed_ex, ax=ax, kde=True, bins=30, color='#4d148c')\n",
        "\n",
        "# Adding chart styling\n",
        "apply_chart_styling(ax=ax, fig=fig, title='Freight Cost Distribution',\n",
        "                    subtitle=\"Analyzing Average Freight Cost\",\n",
        "                    insight_text=\n",
        "'''The analysis reveals that the average freight cost is $11,076.78, with a\n",
        "right-skewed distribution indicating that most shipments are below\n",
        "this average. While lower-cost consignments are more frequent, there are a\n",
        "few high-value shipments that significantly influence the average.\n",
        "Very few shipments exceed $50,000, suggesting that high-cost logistics are less common.\n",
        "This insight can help optimize logistics strategies by identifying the factors\n",
        "driving higher costs and exploring ways to reduce them. ''')\n",
        "\n",
        "# Adjusting layout\n",
        "plt.tight_layout()\n",
        "plt.show()"
      ],
      "metadata": {
        "id": "t6GMdE67YoAp"
      },
      "execution_count": null,
      "outputs": []
    },
    {
      "cell_type": "markdown",
      "source": [
        "##### 1. Why did you pick the specific chart?"
      ],
      "metadata": {
        "id": "fge-S5ZAYoAp"
      }
    },
    {
      "cell_type": "markdown",
      "source": [
        "The histogram shows the distribution of freight costs, making it easy to see trends and identify high and low cost ranges."
      ],
      "metadata": {
        "id": "5dBItgRVYoAp"
      }
    },
    {
      "cell_type": "markdown",
      "source": [
        "##### 2. What is/are the insight(s) found from the chart?"
      ],
      "metadata": {
        "id": "85gYPyotYoAp"
      }
    },
    {
      "cell_type": "markdown",
      "source": [
        "The average freight cost is $11,076.78, with most shipments costing less. There are few shipments over $50,000, indicating high costs are rare."
      ],
      "metadata": {
        "id": "4jstXR6OYoAp"
      }
    },
    {
      "cell_type": "markdown",
      "source": [
        "##### 3. Will the gained insights help creating a positive business impact?\n",
        "Are there any insights that lead to negative growth? Justify with specific reason."
      ],
      "metadata": {
        "id": "RoGjAbkUYoAp"
      }
    },
    {
      "cell_type": "markdown",
      "source": [
        "#### Business Impact:\n",
        "\n",
        "**Positive Impact**: Insights can help optimize logistics and reduce costs.\n",
        "\n",
        "**Negative Growth**: Relying on a few high-value shipments could be risky, and many low-cost shipments might not be profitable enough."
      ],
      "metadata": {
        "id": "zfJ8IqMcYoAp"
      }
    },
    {
      "cell_type": "markdown",
      "source": [
        "#### Chart - 4 - Line Item Quantity Distribution"
      ],
      "metadata": {
        "id": "4Of9eVA-YrdM"
      }
    },
    {
      "cell_type": "code",
      "source": [
        "# Chart - 4 visualization code\n",
        "# Counting the frequency of each Line Item Quantity value\n",
        "count_line_quantity = fed_ex['Line Item Quantity'].value_counts()\n",
        "\n",
        "# Creating the figure and axis\n",
        "fig, ax = plt.subplots(1, 1, figsize=(18, 10))\n",
        "\n",
        "# Plotting the histogram of the Line Item Quantity\n",
        "sns.histplot(x='Line Item Quantity', data=fed_ex, ax=ax, kde=True, bins=30, color='#ff6600')\n",
        "\n",
        "# Adding chart styling\n",
        "apply_chart_styling(ax=ax, fig=fig, title='Line Item Quantity Distribution',\n",
        "                    subtitle=\"Most frequent Line Item Quantities:\",\n",
        "                    insight_text=f'The distribution shows the most common quantities:\\n{count_line_quantity.head(5).to_string()}')\n",
        "\n",
        "# Adjusting layout\n",
        "plt.tight_layout()\n",
        "plt.show()"
      ],
      "metadata": {
        "id": "irlUoxc8YrdO"
      },
      "execution_count": null,
      "outputs": []
    },
    {
      "cell_type": "markdown",
      "source": [
        "##### 1. Why did you pick the specific chart?"
      ],
      "metadata": {
        "id": "iky9q4vBYrdO"
      }
    },
    {
      "cell_type": "markdown",
      "source": [
        "The histogram shows the distribution of Line Item Quantities, helping to visualize common order sizes."
      ],
      "metadata": {
        "id": "aJRCwT6DYrdO"
      }
    },
    {
      "cell_type": "markdown",
      "source": [
        "##### 2. What is/are the insight(s) found from the chart?"
      ],
      "metadata": {
        "id": "F6T5p64dYrdO"
      }
    },
    {
      "cell_type": "markdown",
      "source": [
        "It highlights the most frequently ordered quantities, revealing patterns in shipment sizes."
      ],
      "metadata": {
        "id": "Xx8WAJvtYrdO"
      }
    },
    {
      "cell_type": "markdown",
      "source": [
        "##### 3. Will the gained insights help creating a positive business impact?\n",
        "Are there any insights that lead to negative growth? Justify with specific reason."
      ],
      "metadata": {
        "id": "y-Ehk30pYrdP"
      }
    },
    {
      "cell_type": "markdown",
      "source": [
        "#### Business Impact:\n",
        "\n",
        "**Positive Impact**: Helps improve inventory management by identifying common order sizes.\n",
        "\n",
        "**Negative Growth**: A focus on low quantities may indicate missed opportunities for larger, more profitable orders."
      ],
      "metadata": {
        "id": "jLNxxz7MYrdP"
      }
    },
    {
      "cell_type": "markdown",
      "source": [
        "#### Chart - 5 - Weight Distribution (Kilograms)"
      ],
      "metadata": {
        "id": "bamQiAODYuh1"
      }
    },
    {
      "cell_type": "code",
      "source": [
        "# Chart - 5 visualization code\n",
        "fig, ax = plt.subplots(1, 1, figsize=(18, 10))\n",
        "\n",
        "# Plotting the boxplot of the shipment weights\n",
        "sns.boxplot(x='Weight (Kilograms)', data=fed_ex, ax=ax, color='#ffffff',showfliers = False)\n",
        "\n",
        "# Adding chart styling\n",
        "apply_chart_styling(ax=ax, fig=fig, title='Shipment Weight Distribution', subtitle='Box plot of shipment weights in kilograms',insight_text=\n",
        "'''The box plot for shipment weights in kilograms indicates\n",
        "that there may be a lack\n",
        "of data or very little variability in the weights,\n",
        "as the plot appears mostly empty.\n",
        "This suggests that the majority of shipments fall\n",
        "within a narrow weight range or that\n",
        "there are no shipments with significantly high or low weights.\n",
        "Without distinct quartiles or\n",
        "outliers visible, it is challenging to assess the overall\n",
        "distribution and characteristics of the\n",
        "shipment weights. This might warrant further investigation\n",
        "into the dataset to determine if any data points\n",
        "are missing or if the shipments are consistently uniform in weight''')\n",
        "\n",
        "# Adjusting layout\n",
        "plt.tight_layout()\n",
        "plt.show()"
      ],
      "metadata": {
        "id": "TIJwrbroYuh3"
      },
      "execution_count": null,
      "outputs": []
    },
    {
      "cell_type": "markdown",
      "source": [
        "##### 1. Why did you pick the specific chart?"
      ],
      "metadata": {
        "id": "QHF8YVU7Yuh3"
      }
    },
    {
      "cell_type": "markdown",
      "source": [
        "The box plot was chosen to show the distribution of shipment weights clearly."
      ],
      "metadata": {
        "id": "dcxuIMRPYuh3"
      }
    },
    {
      "cell_type": "markdown",
      "source": [
        "##### 2. What is/are the insight(s) found from the chart?"
      ],
      "metadata": {
        "id": "GwzvFGzlYuh3"
      }
    },
    {
      "cell_type": "markdown",
      "source": [
        "The chart shows limited variability in shipment weights, indicating most weights fall within a narrow range."
      ],
      "metadata": {
        "id": "uyqkiB8YYuh3"
      }
    },
    {
      "cell_type": "markdown",
      "source": [
        "##### 3. Will the gained insights help creating a positive business impact?\n",
        "Are there any insights that lead to negative growth? Justify with specific reason."
      ],
      "metadata": {
        "id": "qYpmQ266Yuh3"
      }
    },
    {
      "cell_type": "markdown",
      "source": [
        "#### Business Impact:\n",
        "\n",
        "**Positive Impact**: Predictable weights can improve logistics efficiency.\n",
        "\n",
        "**Negative Insight**: Limited data variability may suggest data issues or a lack of product diversity, which could hinder growth opportunities."
      ],
      "metadata": {
        "id": "_WtzZ_hCYuh4"
      }
    },
    {
      "cell_type": "markdown",
      "source": [
        "#### Chart - 6 - Vendors with highest orders"
      ],
      "metadata": {
        "id": "OH-pJp9IphqM"
      }
    },
    {
      "cell_type": "code",
      "source": [
        "# Chart - 6 visualization code\n",
        "# Setting up the plot\n",
        "fig, ax = plt.subplots(figsize=(18, 10))\n",
        "\n",
        "sns.countplot(x = 'Vendor' , order=fed_ex['Vendor'].value_counts().nlargest(5).index,data = fed_ex , palette = palette)\n",
        "# Applying your defined chart styling\n",
        "apply_chart_styling(ax=ax, fig=fig, title='Vendors with highest orders', subtitle='Analyzing vendor Count', insight_text='''The bar chart illustrates the top vendors based on the number of orders.\n",
        "SCMS from RDC stands out with a significantly higher order count\n",
        "(over 5000) compared to other vendors.\n",
        "The remaining vendors, such as Ogenics, Ltd and S.\n",
        "BUYS WHOLESALER, have relatively low order\n",
        "counts (around 1000 or less), showing a vast disparity.\n",
        "This suggests that SCMS from RDC plays a dominant role in procurement,\n",
        "while the other vendors are less active in comparison.''')\n",
        "\n",
        "# Tight layout for better spacing\n",
        "plt.tight_layout()\n",
        "plt.show()"
      ],
      "metadata": {
        "id": "kuRf4wtuphqN"
      },
      "execution_count": null,
      "outputs": []
    },
    {
      "cell_type": "markdown",
      "source": [
        "##### 1. Why did you pick the specific chart?"
      ],
      "metadata": {
        "id": "bbFf2-_FphqN"
      }
    },
    {
      "cell_type": "markdown",
      "source": [
        "I chose a bar chart because it clearly shows the number of orders from different vendors, making comparisons easy."
      ],
      "metadata": {
        "id": "loh7H2nzphqN"
      }
    },
    {
      "cell_type": "markdown",
      "source": [
        "##### 2. What is/are the insight(s) found from the chart?"
      ],
      "metadata": {
        "id": "_ouA3fa0phqN"
      }
    },
    {
      "cell_type": "markdown",
      "source": [
        "SCMS from RDC has over 5000 orders, far more than other vendors like Ogenics and S. BUYS WHOLESALER, which have around 1000."
      ],
      "metadata": {
        "id": "VECbqPI7phqN"
      }
    },
    {
      "cell_type": "markdown",
      "source": [
        "##### 3. Will the gained insights help creating a positive business impact?\n",
        "Are there any insights that lead to negative growth? Justify with specific reason."
      ],
      "metadata": {
        "id": "Seke61FWphqN"
      }
    },
    {
      "cell_type": "markdown",
      "source": [
        "#### Business Impact:\n",
        "\n",
        "**Positive Impact**: Focusing on SCMS can improve procurement strategies and possibly lead to better pricing.\n",
        "\n",
        "**Negative Growth**: Relying too much on SCMS risks disruptions. If issues arise with them, it could hurt operations. Diversifying vendors could reduce this risk."
      ],
      "metadata": {
        "id": "DW4_bGpfphqN"
      }
    },
    {
      "cell_type": "markdown",
      "source": [
        "# **Bi-Variate Analysis**"
      ],
      "metadata": {
        "id": "KWbJfpEaA2Mm"
      }
    },
    {
      "cell_type": "markdown",
      "source": [
        "#### Chart - 7 - Average Weight by Shipment Mode"
      ],
      "metadata": {
        "id": "PIIx-8_IphqN"
      }
    },
    {
      "cell_type": "code",
      "source": [
        "# Chart - 7 visualization code\n",
        "# Set up the plot with a specific figure size for better visualization\n",
        "fig, ax = plt.subplots(1, 1, figsize=(18, 10))\n",
        "\n",
        "# Create a bar plot to show the average weight of shipments by each shipment mode\n",
        "# Using 'Weight (Kilograms)' as the y-axis, with average weights calculated for each 'Shipment Mode'\n",
        "sns.barplot(data=fed_ex, x='Shipment Mode', y='Weight (Kilograms)', estimator='mean', palette=palette)\n",
        "\n",
        "# Apply custom styling to the chart\n",
        "apply_chart_styling(\n",
        "    ax=ax,\n",
        "    fig=fig,\n",
        "    title='Average Weight by Shipment Mode',\n",
        "    subtitle='Bar plot representation',\n",
        "    insight_text='''The bar plot reveals that air transport handles relatively lighter shipments,\n",
        "    with an average weight between 1000 to 1500 kg, likely due to speed and cargo limitations.\n",
        "    In contrast, truck transport carries significantly heavier shipments, averaging 6500 kg,\n",
        "    while ocean and rail shipments have even higher averages, around 6800 kg and 7000 kg, respectively.\n",
        "    This indicates that air is used for lighter, more urgent goods, while ground and sea are preferred for bulkier cargo.'''\n",
        ")\n",
        "\n",
        "# Adjust layout to prevent overlapping and ensure proper spacing\n",
        "plt.tight_layout()\n",
        "\n",
        "# Display the plot\n",
        "plt.show()\n"
      ],
      "metadata": {
        "id": "lqAIGUfyphqO"
      },
      "execution_count": null,
      "outputs": []
    },
    {
      "cell_type": "markdown",
      "source": [
        "##### 1. Why did you pick the specific chart?"
      ],
      "metadata": {
        "id": "t27r6nlMphqO"
      }
    },
    {
      "cell_type": "markdown",
      "source": [
        "The bar chart clearly shows the average weight of shipments for different transport modes, making it easy to compare them."
      ],
      "metadata": {
        "id": "iv6ro40sphqO"
      }
    },
    {
      "cell_type": "markdown",
      "source": [
        "##### 2. What is/are the insight(s) found from the chart?"
      ],
      "metadata": {
        "id": "r2jJGEOYphqO"
      }
    },
    {
      "cell_type": "markdown",
      "source": [
        "Air transport handles lighter shipments (1000 to 1500 kg), while trucks average 6500 kg, and ocean and rail modes carry heavier loads (around 6800 kg to 7000 kg)."
      ],
      "metadata": {
        "id": "Po6ZPi4hphqO"
      }
    },
    {
      "cell_type": "markdown",
      "source": [
        "##### 3. Will the gained insights help creating a positive business impact?\n",
        "Are there any insights that lead to negative growth? Justify with specific reason."
      ],
      "metadata": {
        "id": "b0JNsNcRphqO"
      }
    },
    {
      "cell_type": "markdown",
      "source": [
        "#### Business Impact:\n",
        "\n",
        "**Positive Impact**: Businesses can optimize shipping methods based on weight, leading to cost savings and better delivery efficiency.\n",
        "\n",
        "**Negative Insight**: Overusing air transport for lighter goods may increase costs, reducing overall profitability."
      ],
      "metadata": {
        "id": "xvSq8iUTphqO"
      }
    },
    {
      "cell_type": "markdown",
      "source": [
        "#### Chart - 8 - Delivery Delays by Shipment Mode"
      ],
      "metadata": {
        "id": "BZR9WyysphqO"
      }
    },
    {
      "cell_type": "code",
      "source": [
        "# Chart - 8 visualization code\n",
        "fed_ex['Delay_Days'] = (fed_ex['Delivered to Client Date'] - fed_ex['Scheduled Delivery Date']).dt.days\n",
        "fig,ax = plt.subplots(1,1,figsize= (18,10))\n",
        "sns.barplot(x='Shipment Mode', y='Delay_Days', data=fed_ex,palette = palette)\n",
        "apply_chart_styling(ax = ax ,fig = fig, title = 'Delivery Delays by Shipment Mode',subtitle = '',insight_text = '''The bar plot presents delivery delays by shipment mode.\n",
        "Air shipments show a slight delay close to zero days, indicating they are typically on time.\n",
        "Truck shipments experience moderate delays of around 10 days on average.\n",
        "Air charter shows the most significant delays, exceeding 15 days,\n",
        "while ocean transport faces delays just under 5 days.\n",
        "This suggests that air charters are the least\n",
        "reliable in terms of timeliness, while standard\n",
        "air shipments are the most punctual. ''')\n",
        "plt.tight_layout()\n",
        "plt.show()"
      ],
      "metadata": {
        "id": "TdPTWpAVphqO"
      },
      "execution_count": null,
      "outputs": []
    },
    {
      "cell_type": "markdown",
      "source": [
        "##### 1. Why did you pick the specific chart?"
      ],
      "metadata": {
        "id": "jj7wYXLtphqO"
      }
    },
    {
      "cell_type": "markdown",
      "source": [
        "The bar plot effectively displays the average delivery delays across different shipment modes, allowing for straightforward comparisons between them. It visually highlights differences in performance, making it easier to identify which modes are more reliable."
      ],
      "metadata": {
        "id": "Ob8u6rCTphqO"
      }
    },
    {
      "cell_type": "markdown",
      "source": [
        "##### 2. What is/are the insight(s) found from the chart?"
      ],
      "metadata": {
        "id": "eZrbJ2SmphqO"
      }
    },
    {
      "cell_type": "markdown",
      "source": [
        "Air shipments have minimal delays, indicating they are generally on time.\n",
        "Truck shipments experience moderate delays of about 10 days.\n",
        "\n",
        "Air charters face the most significant delays, exceeding 15 days, suggesting they may be the least reliable.\n",
        "\n",
        "Ocean transport shows delays just under 5 days, indicating moderate reliability."
      ],
      "metadata": {
        "id": "mZtgC_hjphqO"
      }
    },
    {
      "cell_type": "markdown",
      "source": [
        "##### 3. Will the gained insights help creating a positive business impact?\n",
        "Are there any insights that lead to negative growth? Justify with specific reason."
      ],
      "metadata": {
        "id": "rFu4xreNphqO"
      }
    },
    {
      "cell_type": "markdown",
      "source": [
        "#### Business Impact:\n",
        "\n",
        "**Positive Impact**: Understanding the reliability of different shipment modes can guide operational decisions. For example, businesses can prioritize standard air shipments for timely deliveries, improving customer satisfaction and trust.\n",
        "\n",
        "**Negative Insights**: The significant delays associated with air charters could lead to customer dissatisfaction, potentially harming business relationships and revenue. If air charters are promoted for urgent shipments despite their unreliability, it could result in negative customer experiences and loss of business."
      ],
      "metadata": {
        "id": "ey_0qi68phqO"
      }
    },
    {
      "cell_type": "markdown",
      "source": [
        "#### Chart - 9 - Total Shipments Over Time"
      ],
      "metadata": {
        "id": "YJ55k-q6phqO"
      }
    },
    {
      "cell_type": "code",
      "source": [
        "# Chart - 9 visualization code\n",
        "fed_ex['Shipment_Date'] = fed_ex['PQ First Sent to Client Date'].fillna(fed_ex['Scheduled Delivery Date'])\n",
        "shipments_over_time = fed_ex.resample('M', on='Shipment_Date').size()\n",
        "\n",
        "# Create figure and axes\n",
        "fig, ax = plt.subplots(figsize=(18, 10))\n",
        "\n",
        "# Convert to area chart using fill_between\n",
        "ax.fill_between(shipments_over_time.index, shipments_over_time.values, color='#ff6600', alpha=0.6)\n",
        "\n",
        "# Applying your defined chart styling\n",
        "apply_chart_styling(ax=ax, fig=fig, title='Total Shipments Over Time', subtitle='Tracking the number of shipments each year',insight_text='''The chart depicts the total number of shipments over time,\n",
        "highlighting trends and potential seasonal patterns from 2006 to 2016.\n",
        "We observe an initial gradual increase in shipments between 2006 and 2009,\n",
        "followed by notable fluctuations in volume from 2010 onwards.\n",
        "Peaks are visible at multiple intervals,\n",
        "indicating potential periods of high demand,\n",
        "while some sharp drops suggest potential off-seasons or disruptions.\n",
        "The most significant activity occurred around 2013-2014,\n",
        "where shipment counts approached or exceeded 250.\n",
        "After 2015, there's a visible decline, possibly indicating a\n",
        "slowdown in operations or changing market conditions.\n",
        "This pattern may reflect seasonal or\n",
        "business-cycle-driven variations in shipment volumes.''')\n",
        "\n",
        "# Tight layout for better spacing\n",
        "plt.tight_layout()\n",
        "plt.show()"
      ],
      "metadata": {
        "id": "B2aS4O1ophqO"
      },
      "execution_count": null,
      "outputs": []
    },
    {
      "cell_type": "markdown",
      "source": [
        "##### 1. Why did you pick the specific chart?"
      ],
      "metadata": {
        "id": "gCFgpxoyphqP"
      }
    },
    {
      "cell_type": "markdown",
      "source": [
        "I chose the area chart because it clearly shows how total shipments change over time, highlighting trends and peaks."
      ],
      "metadata": {
        "id": "TVxDimi2phqP"
      }
    },
    {
      "cell_type": "markdown",
      "source": [
        "##### 2. What is/are the insight(s) found from the chart?"
      ],
      "metadata": {
        "id": "OVtJsKN_phqQ"
      }
    },
    {
      "cell_type": "markdown",
      "source": [
        "The chart shows a steady increase in shipments from 2006 to 2009, followed by fluctuations, with peaks in 2013-2014 and a decline after 2015."
      ],
      "metadata": {
        "id": "ngGi97qjphqQ"
      }
    },
    {
      "cell_type": "markdown",
      "source": [
        "##### 3. Will the gained insights help creating a positive business impact?\n",
        "Are there any insights that lead to negative growth? Justify with specific reason."
      ],
      "metadata": {
        "id": "lssrdh5qphqQ"
      }
    },
    {
      "cell_type": "markdown",
      "source": [
        "Yes, these insights can help plan for busy periods and improve resource management. However, the decline after 2015 may indicate negative growth, possibly due to increased competition or market changes. This needs further investigation."
      ],
      "metadata": {
        "id": "tBpY5ekJphqQ"
      }
    },
    {
      "cell_type": "markdown",
      "source": [
        "#### Chart - 10 - **Line Of Items Across Diffrent Shipment Mode**"
      ],
      "metadata": {
        "id": "U2RJ9gkRphqQ"
      }
    },
    {
      "cell_type": "code",
      "source": [
        "# Chart - 10 visualization code\n",
        "fig, ax = plt.subplots(figsize=(18, 10))\n",
        "sns.boxplot(x = 'Shipment Mode' , y = 'Line Item Value',data = fed_ex,palette = palette,showfliers = False)\n",
        "ax.yaxis.set_major_formatter(mtick.StrMethodFormatter('{x:,.0f}'))\n",
        "# Applying your defined chart styling\n",
        "apply_chart_styling(ax=ax, fig=fig, title='Line Of Items Across Diffrent Shipment Mode', subtitle='Tracking the number of shipments each month', insight_text='''The box plot visualizes the distribution of items\n",
        "across different shipment modes.\n",
        "It shows that FedEx has the highest median number of items shipped,\n",
        "followed by Truck and Air Charter.\n",
        "The interquartile range (IQR) for Truck is the smallest,\n",
        "indicating a more consistent number of items shipped compared to other modes.\n",
        "The outlier for Other suggests a significantly higher\n",
        "number of items shipped in one or more months. Overall,\n",
        "the plot highlights the variability in item shipments\n",
        "across different modes and identifies\n",
        "FedEx as the most consistent performer in terms of shipment volume.''')\n",
        "\n",
        "# Tight layout for better spacing\n",
        "plt.tight_layout()\n",
        "plt.show()"
      ],
      "metadata": {
        "id": "GM7a4YP4phqQ"
      },
      "execution_count": null,
      "outputs": []
    },
    {
      "cell_type": "markdown",
      "source": [
        "##### 1. Why did you pick the specific chart?"
      ],
      "metadata": {
        "id": "1M8mcRywphqQ"
      }
    },
    {
      "cell_type": "markdown",
      "source": [
        "The box plot was chosen because it effectively displays the distribution of line item values across different shipment modes. It highlights median values, variability, and potential outliers, providing a clear comparison of how different modes perform in terms of item volume."
      ],
      "metadata": {
        "id": "8agQvks0phqQ"
      }
    },
    {
      "cell_type": "markdown",
      "source": [
        "##### 2. What is/are the insight(s) found from the chart?"
      ],
      "metadata": {
        "id": "tgIPom80phqQ"
      }
    },
    {
      "cell_type": "markdown",
      "source": [
        "The insights reveal that FedEx has the highest median line item value, indicating it is a preferred option for shipping items. The Truck mode shows a smaller interquartile range, suggesting more consistency in the number of items shipped, while the \"Other\" category contains outliers, hinting at occasional high-volume shipments that may need further investigation."
      ],
      "metadata": {
        "id": "Qp13pnNzphqQ"
      }
    },
    {
      "cell_type": "markdown",
      "source": [
        "##### 3. Will the gained insights help creating a positive business impact?\n",
        "Are there any insights that lead to negative growth? Justify with specific reason."
      ],
      "metadata": {
        "id": "JMzcOPDDphqR"
      }
    },
    {
      "cell_type": "markdown",
      "source": [
        "#### Business Impact:\n",
        "\n",
        "**Positive Impact**: The insights can guide the company in enhancing its logistics strategy by focusing on the more profitable shipment modes, such as FedEx, thus optimizing resource allocation and improving overall profitability.\n",
        "\n",
        "**Negative Impact**: The presence of outliers in the \"Other\" category could indicate erratic shipping patterns, leading to unexpected costs or operational challenges. If not addressed, this inconsistency may harm customer satisfaction and potentially result in lost business opportunities."
      ],
      "metadata": {
        "id": "R4Ka1PC2phqR"
      }
    },
    {
      "cell_type": "markdown",
      "source": [
        "#### Chart - 11 - Freight Cost In Comparison to Weight"
      ],
      "metadata": {
        "id": "x-EpHcCOp1ci"
      }
    },
    {
      "cell_type": "code",
      "source": [
        "# Chart - 11 visualization code\n",
        "fig, ax = plt.subplots(figsize=(18, 10))\n",
        "sns.scatterplot(x = 'Weight (Kilograms)' , y = 'Freight Cost (USD)',data = fed_ex,s = 250, alpha = 0.7,color = '#4d148c' )\n",
        "\n",
        "# Applying your defined chart styling\n",
        "apply_chart_styling(ax=ax, fig=fig, title='Freight Cost In Comparison to Weight', subtitle='Tracking the number of shipments each month', insight_text='''The scatter plot illustrates the relationship between\n",
        "freight cost and weight for a set of shipments.\n",
        "The general trend is that as the weight of a shipment increases,\n",
        "so does the freight cost.\n",
        "However, there is also a degree of variability around this trend, as evidenced by\n",
        "the scatter of the data points. This suggests that factors other than weight,\n",
        "such as distance, shipment mode, or item type, may also influence freight costs.\n",
        "Additionally, the plot reveals a few potential outliers,\n",
        "which could be due to unusual shipments or errors in the data.\n",
        "Overall, the scatter plot provides a visual representation of\n",
        "the relationship between freight cost and weight,\n",
        "highlighting the general trend while also indicating the\n",
        "presence of additional factors that may affect pricing.''')\n",
        "\n",
        "# Tight layout for better spacing\n",
        "plt.tight_layout()\n",
        "plt.show()"
      ],
      "metadata": {
        "id": "mAQTIvtqp1cj"
      },
      "execution_count": null,
      "outputs": []
    },
    {
      "cell_type": "markdown",
      "source": [
        "##### 1. Why did you pick the specific chart?"
      ],
      "metadata": {
        "id": "X_VqEhTip1ck"
      }
    },
    {
      "cell_type": "markdown",
      "source": [
        "I selected a scatter plot because it effectively displays the relationship between freight cost and weight, allowing for a clear visualization of trends, variability, and potential outliers."
      ],
      "metadata": {
        "id": "-vsMzt_np1ck"
      }
    },
    {
      "cell_type": "markdown",
      "source": [
        "##### 2. What is/are the insight(s) found from the chart?"
      ],
      "metadata": {
        "id": "8zGJKyg5p1ck"
      }
    },
    {
      "cell_type": "markdown",
      "source": [
        "The scatter plot shows a general trend where freight costs increase with the weight of shipments. However, there is notable variability, suggesting that other factors like shipment mode and item type also play a role in determining freight costs. Additionally, some outliers indicate unusual shipments or potential data errors."
      ],
      "metadata": {
        "id": "ZYdMsrqVp1ck"
      }
    },
    {
      "cell_type": "markdown",
      "source": [
        "##### 3. Will the gained insights help creating a positive business impact?\n",
        "Are there any insights that lead to negative growth? Justify with specific reason."
      ],
      "metadata": {
        "id": "PVzmfK_Ep1ck"
      }
    },
    {
      "cell_type": "markdown",
      "source": [
        "#### Business Impact:\n",
        "\n",
        "**Positive Impact**: The insights can help businesses optimize shipping strategies by understanding how weight influences costs, enabling more accurate pricing and better budget planning.\n",
        "\n",
        "**Negative Impact**: If businesses overlook the variability and rely solely on weight to predict costs, they may miscalculate shipping expenses, potentially leading to budget overruns and reduced profitability. Outliers could also indicate underlying issues that need addressing to avoid financial losses."
      ],
      "metadata": {
        "id": "druuKYZpp1ck"
      }
    },
    {
      "cell_type": "markdown",
      "source": [
        "#### Chart - 12 - Highest Paying Countries based on Freight Cost"
      ],
      "metadata": {
        "id": "n3dbpmDWp1ck"
      }
    },
    {
      "cell_type": "code",
      "source": [
        "# Chart - 12 visualization code\n",
        "fed_ex['Freight Cost (USD)'] = fed_ex['Freight Cost (USD)'].fillna(0)\n",
        "\n",
        "fed_ex['Freight Cost (USD)'] = np.where(np.isfinite(fed_ex['Freight Cost (USD)']),\n",
        "                                        fed_ex['Freight Cost (USD)'], 0)\n",
        "\n",
        "fed_ex['Freight Cost (USD)'] = fed_ex['Freight Cost (USD)'].astype(int)\n",
        "\n",
        "top_10_countries = fed_ex.groupby('Country')['Freight Cost (USD)'].sum().nlargest(10).reset_index()\n",
        "\n",
        "# Create bar plot\n",
        "fig, ax = plt.subplots(1, 1, figsize=(18, 10))\n",
        "\n",
        "# Bar plot of top 10 countries by freight cost\n",
        "sns.barplot(x='Country', y='Freight Cost (USD)', data=top_10_countries, palette=palette, ax=ax)\n",
        "ax.yaxis.set_major_formatter(mtick.StrMethodFormatter('{x:,.0f}'))\n",
        "\n",
        "# Apply your defined chart styling\n",
        "apply_chart_styling(ax=ax, fig=fig, title='Highest Paying Countries based on Freight Cost', subtitle='Total freight costs for the top 10 countries', insight_text='''The bar chart ranks the top 10 countries based on their total freight costs.\n",
        "Nigeria emerges as the highest-paying country, followed by China and Rwanda.\n",
        "The chart visually compares the relative freight costs among these countries,\n",
        "highlighting the significant differences in expenditure.\n",
        "It's evident that Nigeria's freight costs are substantially\n",
        "higher than those of the other countries listed.\n",
        "The chart offers a clear overview of the countries with the highest freight costs,\n",
        "allowing for easy identification and comparison.''')\n",
        "\n",
        "# Tight layout for better spacing\n",
        "plt.tight_layout()\n",
        "plt.show()"
      ],
      "metadata": {
        "id": "bwevp1tKp1ck"
      },
      "execution_count": null,
      "outputs": []
    },
    {
      "cell_type": "markdown",
      "source": [
        "##### 1. Why did you pick the specific chart?"
      ],
      "metadata": {
        "id": "ylSl6qgtp1ck"
      }
    },
    {
      "cell_type": "markdown",
      "source": [
        "I chose a bar chart because it effectively displays the total freight costs for the top 10 countries, making it easy to compare their expenditures visually."
      ],
      "metadata": {
        "id": "m2xqNkiQp1ck"
      }
    },
    {
      "cell_type": "markdown",
      "source": [
        "##### 2. What is/are the insight(s) found from the chart?"
      ],
      "metadata": {
        "id": "ZWILFDl5p1ck"
      }
    },
    {
      "cell_type": "markdown",
      "source": [
        "The chart reveals that Nigeria has the highest freight costs, followed by China and Rwanda. It highlights significant differences in freight spending among these countries, with Nigeria standing out as the highest payer."
      ],
      "metadata": {
        "id": "x-lUsV2mp1ck"
      }
    },
    {
      "cell_type": "markdown",
      "source": [
        "##### 3. Will the gained insights help creating a positive business impact?\n",
        "Are there any insights that lead to negative growth? Justify with specific reason."
      ],
      "metadata": {
        "id": "M7G43BXep1ck"
      }
    },
    {
      "cell_type": "markdown",
      "source": [
        "#### Business Impact:\n",
        "\n",
        "**Positive Impact**: Understanding which countries have the highest freight costs can help businesses target these markets for potential partnerships or increased service offerings.\n",
        "\n",
        "**Negative Impact**: If a business relies heavily on high-cost countries like Nigeria, it may face challenges in maintaining profitability. This reliance on expensive shipping could hinder growth if not managed effectively."
      ],
      "metadata": {
        "id": "5wwDJXsLp1cl"
      }
    },
    {
      "cell_type": "markdown",
      "source": [
        "#### Chart - 13 - **Shipment Mode in comparison to Freight Cost**"
      ],
      "metadata": {
        "id": "Ag9LCva-p1cl"
      }
    },
    {
      "cell_type": "code",
      "source": [
        "# Chart - 13 visualization code\n",
        "fig, ax = plt.subplots(figsize=(18, 10))\n",
        "sns.boxplot(x = 'Shipment Mode' , y = 'Freight Cost (USD)',data = fed_ex,palette = palette,showfliers = False)\n",
        "ax.yaxis.set_major_formatter(mtick.StrMethodFormatter('{x:,.0f}'))\n",
        "# Applying your defined chart styling\n",
        "apply_chart_styling(ax=ax, fig=fig, title='Shipment Mode in comparison to Freight Cost', subtitle='Tracking the number of shipments each month', insight_text='''The box plot compares the distribution of freight costs across different shipment modes.\n",
        "It shows that Air Charter has the highest median freight cost,\n",
        "followed by Truck and Sea. The interquartile range (IQR) for Sea is the smallest,\n",
        "indicating a more consistent freight cost compared to other modes.\n",
        "The outlier for Truck suggests a significantly higher freight cost in one or more months.\n",
        "Overall, the plot highlights the variability in freight costs\n",
        "across different modes and identifies Air Charter as the most expensive option.''')\n",
        "\n",
        "# Tight layout for better spacing\n",
        "plt.tight_layout()\n",
        "plt.show()"
      ],
      "metadata": {
        "id": "EUfxeq9-p1cl"
      },
      "execution_count": null,
      "outputs": []
    },
    {
      "cell_type": "markdown",
      "source": [
        "##### 1. Why did you pick the specific chart?"
      ],
      "metadata": {
        "id": "E6MkPsBcp1cl"
      }
    },
    {
      "cell_type": "markdown",
      "source": [
        "I chose a box plot because it clearly compares freight costs across different shipment modes, showing the median, consistency, and any outliers."
      ],
      "metadata": {
        "id": "V22bRsFWp1cl"
      }
    },
    {
      "cell_type": "markdown",
      "source": [
        "##### 2. What is/are the insight(s) found from the chart?"
      ],
      "metadata": {
        "id": "2cELzS2fp1cl"
      }
    },
    {
      "cell_type": "markdown",
      "source": [
        "The box plot shows that Air Charter has the highest median freight cost, followed by Truck and Sea. Sea has more consistent costs, while Truck has occasional high outlier costs."
      ],
      "metadata": {
        "id": "ozQPc2_Ip1cl"
      }
    },
    {
      "cell_type": "markdown",
      "source": [
        "##### 3. Will the gained insights help creating a positive business impact?\n",
        "Are there any insights that lead to negative growth? Justify with specific reason."
      ],
      "metadata": {
        "id": "3MPXvC8up1cl"
      }
    },
    {
      "cell_type": "markdown",
      "source": [
        "#### Business Impact:\n",
        "\n",
        "**Positive Impact**: The insights help businesses select cost-effective shipping options and manage budgets better.\n",
        "\n",
        "**Negative Impact**: Outliers in Truck could lead to unexpected high costs, which might hurt profit margins and customer satisfaction, potentially affecting growth."
      ],
      "metadata": {
        "id": "GL8l1tdLp1cl"
      }
    },
    {
      "cell_type": "markdown",
      "source": [
        "# **Multi-Variate Analysis**"
      ],
      "metadata": {
        "id": "BLaTYWKQBpv2"
      }
    },
    {
      "cell_type": "markdown",
      "source": [
        "#### Chart - 14 - Freight Cost by Country, Shipment Mode, and Vendor"
      ],
      "metadata": {
        "id": "KBadKdbHvzQj"
      }
    },
    {
      "cell_type": "code",
      "source": [
        "#Chart - 14 visualization code\n",
        "\n",
        "top_10_countries = fed_ex['Country'].value_counts().nlargest(10).index\n",
        "\n",
        "top_10_data = fed_ex[fed_ex['Country'].isin(top_10_countries)]\n",
        "\n",
        "\n",
        "fig, ax = plt.subplots(figsize=(18, 10))\n",
        "\n",
        "\n",
        "sns.scatterplot(x='Weight (Kilograms)', y='Freight Cost (USD)', hue='Country',  size='Weight (Kilograms)',  style='Shipment Mode',  sizes=(250, 1000),  data=top_10_data,  palette=palette, ax=ax,legend = False)\n",
        "\n",
        "# Add title and labels\n",
        "apply_chart_styling(ax=ax, fig=fig, title='Freight Cost vs Weight by Shipment Mode and Top 10 Countries', subtitle='Tracking the number of shipments each month', insight_text='''The scatter plot illustrates the relationship between freight cost\n",
        "and weight for a set of shipments across different modes and top 10 countries.\n",
        "The general trend is that as the weight of a shipment increases, so does the freight cost.\n",
        "However, there is also a degree of variability\n",
        "around this trend, as evidenced by the scatter of the data points.\n",
        "This suggests that factors other than weight, such as distance,\n",
        "shipment mode, or country, may also influence freight costs.''')\n",
        "plt.tight_layout()\n",
        "plt.show()"
      ],
      "metadata": {
        "id": "ZMQqyOtMvyEE"
      },
      "execution_count": null,
      "outputs": []
    },
    {
      "cell_type": "markdown",
      "source": [
        "##### 1. Why did you pick the specific chart?"
      ],
      "metadata": {
        "id": "I7dbNpjHwGqZ"
      }
    },
    {
      "cell_type": "markdown",
      "source": [
        "I chose a scatter plot because it clearly shows the relationship between freight cost and weight. It allows us to see trends and how different countries and shipment modes impact costs."
      ],
      "metadata": {
        "id": "jjkvVPMxwVDx"
      }
    },
    {
      "cell_type": "markdown",
      "source": [
        "##### 2. What is/are the insight(s) found from the chart?"
      ],
      "metadata": {
        "id": "dcLr-IFbwaRV"
      }
    },
    {
      "cell_type": "markdown",
      "source": [
        "The chart reveals that higher shipment weight generally leads to higher freight costs. However, there's variability, indicating that other factors, like distance and shipment mode, also influence costs."
      ],
      "metadata": {
        "id": "Na9YzbbewgbO"
      }
    },
    {
      "cell_type": "markdown",
      "source": [
        "##### 3. Will the gained insights help creating a positive business impact?\n",
        "Are there any insights that lead to negative growth? Justify with specific reason."
      ],
      "metadata": {
        "id": "Dcr8upcKwmKK"
      }
    },
    {
      "cell_type": "markdown",
      "source": [
        "Positive Impact: The insights help businesses optimize shipping strategies and improve pricing, potentially increasing profits.\n",
        "\n",
        "Negative Impact: The variability in costs suggests that unaddressed factors, like inefficient shipment methods, could lead to unexpected expenses and customer dissatisfaction, harming business growth."
      ],
      "metadata": {
        "id": "4Y_CYkbNwnas"
      }
    },
    {
      "cell_type": "markdown",
      "source": [
        "#### Chart - 15 - Line Item Value in comaprison with Freight Cost by Vendor and Shipment Mode"
      ],
      "metadata": {
        "id": "NC_X3p0fY2L0"
      }
    },
    {
      "cell_type": "code",
      "source": [
        "# Correlation Heatmap visualization code\n",
        "fig, ax = plt.subplots(figsize=(16, 10))\n",
        "\n",
        "# Scatter plot\n",
        "sns.scatterplot(\n",
        "    x='Line Item Value',\n",
        "    y='Freight Cost (USD)',\n",
        "    hue='Vendor',\n",
        "    style='Shipment Mode',\n",
        "    data=fed_ex,\n",
        "    ax=ax,\n",
        "    palette=palette,\n",
        "    legend=False\n",
        ")\n",
        "\n",
        "\n",
        "sns.regplot(\n",
        "    x='Line Item Value',\n",
        "    y='Freight Cost (USD)',\n",
        "    data=fed_ex,\n",
        "    scatter=False,\n",
        "    ax=ax,\n",
        "    color='gray',\n",
        ")\n",
        "\n",
        "# Apply chart styling\n",
        "apply_chart_styling(ax=ax, fig=fig, title='Line Item Value in comaprison with Freight Cost by Vendor and Shipment Mode', subtitle='Tracking the number of shipments each month', insight_text='''The scatter plot illustrates the relationship between the line item value and freight cost for a set of shipments,\n",
        "considering the effects of vendor and shipment mode.\n",
        "The general trend is that as the line item value increases,\n",
        "so does the freight cost. However, there is also a degree of variability around this trend,\n",
        "as evidenced by the scatter of the data points.\n",
        "This suggests that factors other than line item value, such as vendor,\n",
        "shipment mode, or other variables not included in the plot, may also influence freight costs.''')\n",
        "\n",
        "# Display the plot\n",
        "plt.tight_layout()\n",
        "plt.show()"
      ],
      "metadata": {
        "id": "xyC9zolEZNRQ"
      },
      "execution_count": null,
      "outputs": []
    },
    {
      "cell_type": "markdown",
      "source": [
        "##### 1. Why did you pick the specific chart?"
      ],
      "metadata": {
        "id": "UV0SzAkaZNRQ"
      }
    },
    {
      "cell_type": "markdown",
      "source": [
        "I chose a scatter plot with a regression line because it clearly shows the relationship between line item value and freight cost. It allows for easy visualization of individual data points while highlighting trends, and the regression line indicates how costs generally increase with higher item values. This helps to understand the correlation and variability in freight costs."
      ],
      "metadata": {
        "id": "DVPuT8LYZNRQ"
      }
    },
    {
      "cell_type": "markdown",
      "source": [
        "##### 2. What is/are the insight(s) found from the chart?"
      ],
      "metadata": {
        "id": "YPEH6qLeZNRQ"
      }
    },
    {
      "cell_type": "markdown",
      "source": [
        "The scatter plot shows that higher line item values generally lead to higher freight costs, indicating a positive relationship. However, there's considerable variability, suggesting that other factors like the vendor or shipment mode also affect freight costs."
      ],
      "metadata": {
        "id": "bfSqtnDqZNRR"
      }
    },
    {
      "cell_type": "markdown",
      "source": [
        "##### 3. Will the gained insights help creating a positive business impact?\n",
        "Are there any insights that lead to negative growth? Justify with specific reason."
      ],
      "metadata": {
        "id": "Q8w0Abi-2CAv"
      }
    },
    {
      "cell_type": "markdown",
      "source": [
        "#### Business Impact:\n",
        "\n",
        "**Positive Impact:** The insights help businesses recognize that higher line item values usually result in higher freight costs, enabling better pricing and cost management.\n",
        "\n",
        "**Negative Impact:** The variability in freight costs suggests that other factors influence expenses. If these aren't addressed, it could lead to unexpected costs and customer dissatisfaction, harming business growth."
      ],
      "metadata": {
        "id": "1-l7A_vd2DF4"
      }
    },
    {
      "cell_type": "markdown",
      "source": [
        "#### Chart - 16 - **Freight Cost by Shipment Mode, Fulfill Via, and Country**"
      ],
      "metadata": {
        "id": "q29F0dvdveiT"
      }
    },
    {
      "cell_type": "code",
      "source": [
        "# Boxplot for freight cost by shipment mode, fulfill method, and country\n",
        "fig,ax = plt.subplots(1,1,figsize = (18,10))\n",
        "sns.boxplot(\n",
        "    x='Shipment Mode',\n",
        "    y='Freight Cost (USD)',\n",
        "    hue='Fulfill Via',  # Add segmentation by fulfill method\n",
        "    data=fed_ex,  # Replace with your dataset\n",
        "    ax=ax,\n",
        "    palette=palette,\n",
        "    showfliers = False\n",
        ")\n",
        "\n",
        "apply_chart_styling(ax=ax, fig=fig, title='Freight Cost by Shipment Mode, Fulfill Via, and Country', subtitle='Tracking the number of shipments each month', insight_text='''The box plot compares the distribution of freight costs across different shipment modes,\n",
        "fulfillment vias, and countries.\n",
        "It shows that FedEx Ground has the highest median freight cost,\n",
        "followed by FedEx Express and FedEx Economy.\n",
        "The interquartile range (IQR) for FedEx Economy is the smallest,\n",
        "indicating a more consistent freight cost compared to other modes.\n",
        "he outliers for FedEx Ground and FedEx Express suggest significantly\n",
        "higher or lower freight costs in one or more months.''')\n",
        "\n",
        "# Display the plot\n",
        "plt.tight_layout()\n",
        "plt.show()"
      ],
      "metadata": {
        "id": "o58-TEIhveiU"
      },
      "execution_count": null,
      "outputs": []
    },
    {
      "cell_type": "markdown",
      "source": [
        "##### 1. Why did you pick the specific chart?"
      ],
      "metadata": {
        "id": "EXh0U9oCveiU"
      }
    },
    {
      "cell_type": "markdown",
      "source": [
        "I chose a boxplot because it clearly shows the distribution of freight costs across different shipment modes and fulfillment methods. It highlights key statistics like the median, interquartile range, and outliers, making it easy to compare costs and identify variations. This helps in understanding how freight costs differ across various categories."
      ],
      "metadata": {
        "id": "eMmPjTByveiU"
      }
    },
    {
      "cell_type": "markdown",
      "source": [
        "##### 2. What is/are the insight(s) found from the chart?"
      ],
      "metadata": {
        "id": "22aHeOlLveiV"
      }
    },
    {
      "cell_type": "markdown",
      "source": [
        "The boxplot shows that FedEx Ground has the highest median freight cost, followed by FedEx Express and FedEx Economy. FedEx Economy has the smallest interquartile range, indicating more consistent costs. There are also outliers in FedEx Ground and FedEx Express, suggesting some months have significantly higher or lower costs. Overall, it highlights variations in freight costs by shipment mode and fulfillment method."
      ],
      "metadata": {
        "id": "uPQ8RGwHveiV"
      }
    },
    {
      "cell_type": "markdown",
      "source": [
        "##### 3. Will the gained insights help creating a positive business impact?\n",
        "Are there any insights that lead to negative growth? Justify with specific reason."
      ],
      "metadata": {
        "id": "UCiBriD6xdXe"
      }
    },
    {
      "cell_type": "markdown",
      "source": [
        "#### Business Impact:\n",
        "\n",
        "**Positive Impact:** The insights can help improve pricing strategies, especially by managing costs for FedEx Ground and promoting FedEx Economy as a reliable, budget-friendly option, which could attract more customers.\n",
        "\n",
        "**Negative Impact:** The outliers in FedEx Ground and FedEx Express indicate fluctuating costs, which could lead to customer dissatisfaction and loss of trust if not addressed. This may result in negative growth for the business."
      ],
      "metadata": {
        "id": "eXQ8YhpxxeXC"
      }
    },
    {
      "cell_type": "markdown",
      "source": [
        "#### Chart - 17 - Heatmap Corrleation"
      ],
      "metadata": {
        "id": "fOzAZDFvxgDg"
      }
    },
    {
      "cell_type": "code",
      "source": [
        "# Correlation Heatmap visualization code\n",
        "# Define the colors in hex\n",
        "colors = ['#4d148c', '#ff6600']\n",
        "\n",
        "# Create the colormap\n",
        "custom_cmap = mcolors.LinearSegmentedColormap.from_list('custom_cmap', colors)\n",
        "\n",
        "correlation_matrix = fed_ex[numeric_columns].corr()\n",
        "\n",
        "# Create a heatmap\n",
        "fig,ax = plt.subplots(figsize=(18, 10))\n",
        "sns.heatmap(correlation_matrix, annot=True, cmap= custom_cmap, fmt='.2f', linewidths=0.5)\n",
        "apply_chart_styling(ax = ax ,fig = fig , title = 'Correlation Heatmap of Numeric Variables',subtitle = '',insight_text = ''' The correlation heatmap reveals strong positive\n",
        "relationships between line item quantity and value,\n",
        "and a moderate positive correlation between weight and freight cost.\n",
        "Weaker positive correlations exist between line item insurance and freight cost.\n",
        "These findings suggest that the quantity and value of items,\n",
        "as well as weight, are significant factors influencing freight costs.''')\n",
        "plt.tight_layout()\n",
        "plt.show()"
      ],
      "metadata": {
        "id": "JOEjpGt0x56x"
      },
      "execution_count": null,
      "outputs": []
    },
    {
      "cell_type": "markdown",
      "source": [
        "##### 1. Why did you pick the specific chart?"
      ],
      "metadata": {
        "id": "K1KA1VRgx8Au"
      }
    },
    {
      "cell_type": "markdown",
      "source": [
        "I chose a correlation heatmap because it clearly shows the relationships between numeric variables. It helps quickly identify strong, moderate, and weak correlations using color gradients, making it easy to understand how different factors interact. This visualization provides both a visual summary and specific numerical insights, which are useful for analyzing the data."
      ],
      "metadata": {
        "id": "tmOKEHecx9Ds"
      }
    },
    {
      "cell_type": "markdown",
      "source": [
        "##### 2. What is/are the insight(s) found from the chart?"
      ],
      "metadata": {
        "id": "cSMiYLj1x9nN"
      }
    },
    {
      "cell_type": "markdown",
      "source": [
        "The correlation heatmap shows a strong relationship between line item quantity and value, meaning higher quantities usually lead to higher values. There’s also a moderate correlation between weight and freight cost, indicating heavier shipments tend to cost more to ship. Weaker correlations between line item insurance and freight cost suggest that insurance has less impact on costs. Overall, quantity and weight are significant factors affecting freight costs."
      ],
      "metadata": {
        "id": "W_-j-AIKx-0A"
      }
    },
    {
      "cell_type": "markdown",
      "source": [
        "#### Chart - 18 - Pair Plot"
      ],
      "metadata": {
        "id": "XeO4coLXyFXr"
      }
    },
    {
      "cell_type": "code",
      "source": [
        "numeric_columns = ['Line Item Value', 'Weight (Kilograms)', 'Freight Cost (USD)', 'Line Item Insurance (USD)', 'Line Item Quantity']\n",
        "\n",
        "# Drop rows with missing values in the selected columns\n",
        "df_pairplot = fed_ex[numeric_columns + ['Shipment Mode']].dropna()\n",
        "\n",
        "\n",
        "# Create pair plot with shipment mode as hue\n",
        "fig = sns.pairplot(df_pairplot,\n",
        "                   hue='Shipment Mode',\n",
        "                   palette=palette,\n",
        "                   diag_kind='kde',  # Kernel density estimate on the diagonal\n",
        "                   plot_kws={'alpha': 0.7})  # Transparency of points\n",
        "\n",
        "plt.figure().set_facecolor('#D3D3D3')\n",
        "\n",
        "# Customize the appearance of each subplot\n",
        "for ax in fig.axes.flatten():\n",
        "    ax.set_facecolor('#D3D3D3')\n",
        "    ax.grid(axis='both', linestyle='-', alpha=0.4)  # Light gridlines\n",
        "    ax.set_axisbelow(True)\n",
        "\n",
        "# Add a title to the entire figure\n",
        "fig.fig.suptitle('Logistics Data Pair Plot', fontsize=18, fontweight='bold', fontfamily='serif')\n",
        "fig.fig.subplots_adjust(top=0.95)\n",
        "\n",
        "# Add custom insight text outside the plot\n",
        "fig.fig.text(1.05, 0.85, 'Insight', fontsize=18, fontweight='bold', fontfamily='serif')\n",
        "fig.fig.text(1.05, 0.67, '''\n",
        "This pair plot reveals relationships among line item value, weight, freight cost,\n",
        "and insurance costs across different shipment modes. Patterns can help identify\n",
        "which factors most influence freight costs in logistics operations.\n",
        "''', fontsize=12, fontfamily='serif')\n",
        "\n",
        "fig.fig.patch.set_facecolor('#D3D3D3')\n",
        "# Display the plot\n",
        "plt.show()"
      ],
      "metadata": {
        "id": "LwwA8iU3yGks"
      },
      "execution_count": null,
      "outputs": []
    },
    {
      "cell_type": "code",
      "source": [
        "from google.colab import files\n",
        "\n",
        "# Save your DataFrame to a CSV\n",
        "fed_df.to_csv('fedx', index=False)\n",
        "\n",
        "# Download the CSV\n",
        "files.download('fedx')\n"
      ],
      "metadata": {
        "id": "EbF8A8lpKGR1"
      },
      "execution_count": null,
      "outputs": []
    },
    {
      "cell_type": "code",
      "source": [],
      "metadata": {
        "id": "_NqbEkHNKyom"
      },
      "execution_count": null,
      "outputs": []
    },
    {
      "cell_type": "markdown",
      "source": [
        "##### 1. Why did you pick the specific chart?"
      ],
      "metadata": {
        "id": "j-YfhS4kyq1k"
      }
    },
    {
      "cell_type": "markdown",
      "source": [
        "I chose a pair plot because it effectively visualizes relationships between multiple numeric variables, highlights patterns by shipment mode, shows distributions, and helps identify correlations, making it a great tool for exploring the data."
      ],
      "metadata": {
        "id": "odHulcgayvfa"
      }
    },
    {
      "cell_type": "markdown",
      "source": [
        "##### 2. What is/are the insight(s) found from the chart?"
      ],
      "metadata": {
        "id": "R8OCqlQbywMk"
      }
    },
    {
      "cell_type": "markdown",
      "source": [
        "The pair plot reveals trends such as distinct patterns in line item value and weight across shipment modes. Higher weights often lead to increased freight and insurance costs. It also highlights outliers and clusters, indicating common characteristics that can help optimize logistics operations."
      ],
      "metadata": {
        "id": "F9t2gq3rywqR"
      }
    },
    {
      "cell_type": "markdown",
      "source": [
        "## **5. Solution to Business Objective**"
      ],
      "metadata": {
        "id": "JcMwzZxoAimU"
      }
    },
    {
      "cell_type": "markdown",
      "source": [
        "#### What do you suggest the client to achieve Business Objective ?\n",
        "Explain Briefly."
      ],
      "metadata": {
        "id": "8G2x9gOozGDZ"
      }
    },
    {
      "cell_type": "markdown",
      "source": [
        "The solution to optimize FedEx Logistics' operations involves using data insights to balance cost and delivery efficiency. By analyzing shipment modes, it was found that air transport incurs higher freight costs but offers faster delivery, making it suitable for time-sensitive, high-value goods. For heavier or low-value shipments, sea or ground transport should be prioritized to reduce costs. Additionally, identifying **key vendors and countries** with the highest shipment volumes enables better resource allocation. Addressing **delivery delays** through improved tracking and vendor management will enhance on-time performance, reduce costs, and improve overall customer satisfaction."
      ],
      "metadata": {
        "id": "pASKb0qOza21"
      }
    },
    {
      "cell_type": "markdown",
      "source": [
        "# **Conclusion**"
      ],
      "metadata": {
        "id": "gCX9965dhzqZ"
      }
    },
    {
      "cell_type": "markdown",
      "source": [
        "This comprehensive analysis provides FedEx Logistics with actionable insights into their operations. By identifying the key factors driving costs, delays, and vendor performance, the company can implement targeted improvements to optimize its global supply chain. The univariate, bivariate, and multivariate analyses collectively offer a holistic understanding of the logistics landscape, enabling FedEx to enhance efficiency, reduce costs, and improve customer satisfaction across its operations."
      ],
      "metadata": {
        "id": "Fjb1IsQkh3yE"
      }
    },
    {
      "cell_type": "markdown",
      "source": [
        "### ***Hurrah! You have successfully completed your EDA Capstone Project !!!***"
      ],
      "metadata": {
        "id": "gIfDvo9L0UH2"
      }
    }
  ]
}